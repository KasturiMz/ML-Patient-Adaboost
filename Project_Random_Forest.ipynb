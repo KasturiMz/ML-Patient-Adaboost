{
 "cells": [
  {
   "cell_type": "code",
   "execution_count": 13,
   "id": "423aa592",
   "metadata": {},
   "outputs": [],
   "source": [
    "import numpy as np\n",
    "import matplotlib.pyplot as plt\n",
    "import pandas as pd"
   ]
  },
  {
   "cell_type": "code",
   "execution_count": 14,
   "id": "f0e4ccca",
   "metadata": {},
   "outputs": [],
   "source": [
    "dataset = pd.read_csv('DataSet_Test2.csv')\n",
    "x = dataset.iloc[:,:-1].values\n",
    "y = dataset.iloc[:,-1].values"
   ]
  },
  {
   "cell_type": "code",
   "execution_count": null,
   "id": "00157d82",
   "metadata": {},
   "outputs": [],
   "source": []
  },
  {
   "cell_type": "code",
   "execution_count": 15,
   "id": "6e75678f",
   "metadata": {},
   "outputs": [],
   "source": [
    "from sklearn.model_selection import train_test_split\n",
    "x_train, x_test, y_train, y_test = train_test_split(x,y,test_size = 0.33, random_state = 0)"
   ]
  },
  {
   "cell_type": "code",
   "execution_count": 16,
   "id": "0d3e0c67",
   "metadata": {},
   "outputs": [],
   "source": [
    "from sklearn.preprocessing import StandardScaler\n",
    "sc = StandardScaler()\n",
    "x_train = sc.fit_transform(x_train)\n",
    "x_test = sc.transform(x_test)"
   ]
  },
  {
   "cell_type": "code",
   "execution_count": 17,
   "id": "56749294",
   "metadata": {},
   "outputs": [
    {
     "name": "stdout",
     "output_type": "stream",
     "text": [
      "[[ 1.17838525 -1.3568953   0.83696333 ... -0.07405558 -0.07839935\n",
      "   1.73368477]\n",
      " [ 1.17838525  0.39816233  0.83696333 ... -0.07405558 -0.07839935\n",
      "  -0.50494456]\n",
      " [-0.8486189   0.39816233  0.83696333 ... -0.07405558 -0.07839935\n",
      "  -0.50494456]\n",
      " ...\n",
      " [-0.8486189   0.39816233  0.83696333 ... -0.07405558 -0.07839935\n",
      "  -0.50494456]\n",
      " [ 1.17838525  0.39816233 -1.19479548 ... -0.07405558 -0.07839935\n",
      "  -0.50494456]\n",
      " [-0.8486189   0.39816233 -1.19479548 ... -0.07405558 -0.07839935\n",
      "  -0.50494456]]\n"
     ]
    }
   ],
   "source": [
    "print(x_train)"
   ]
  },
  {
   "cell_type": "code",
   "execution_count": 18,
   "id": "7acd3a51",
   "metadata": {},
   "outputs": [
    {
     "name": "stdout",
     "output_type": "stream",
     "text": [
      "[[-0.8486189   0.39816233 -1.19479548 ... -0.07405558 -0.07839935\n",
      "  -0.50494456]\n",
      " [-0.8486189   0.39816233 -1.19479548 ... -0.07405558 -0.07839935\n",
      "  -0.50494456]\n",
      " [-0.8486189   0.39816233 -1.19479548 ... -0.07405558 -0.07839935\n",
      "  -0.50494456]\n",
      " ...\n",
      " [ 1.17838525  0.39816233  0.83696333 ... -0.20144258 -0.07839935\n",
      "  -1.62425923]\n",
      " [-0.8486189   0.39816233  0.83696333 ... -0.07405558 -0.07839935\n",
      "  -0.50494456]\n",
      " [-0.8486189   0.39816233  0.83696333 ... -0.07405558 -0.07839935\n",
      "  -0.50494456]]\n"
     ]
    }
   ],
   "source": [
    "print(x_test)"
   ]
  },
  {
   "cell_type": "code",
   "execution_count": 19,
   "id": "d825099f",
   "metadata": {},
   "outputs": [
    {
     "name": "stdout",
     "output_type": "stream",
     "text": [
      "[97  2  1 ...  1  1  2]\n"
     ]
    }
   ],
   "source": [
    "print(y_train)"
   ]
  },
  {
   "cell_type": "code",
   "execution_count": 20,
   "id": "0a53f450",
   "metadata": {},
   "outputs": [
    {
     "name": "stdout",
     "output_type": "stream",
     "text": [
      "[ 2 99  2 99  2  1 99  2 97 97  1 97 97 99  2 97  2 97  2  2 97  2  2  2\n",
      " 97  1  2  1  1  1 97 97  2  1  1  2  2 97  2  2 97  2  2 97  2  1  2 97\n",
      "  2  2  2  2 97  1 97  2  2  2  2  2  2  2 97  2 97  2  1  2  1  2 97  1\n",
      " 97 99  1 99 97 97 99  2  2 97  2  2  2 97  1 97  2 97  2  2 97  2  2 97\n",
      " 97 97 97 97 97  1  2  2 97 97  2  2  2  2  2 97  2  2  2  2 97 97  1  2\n",
      "  2 97 97  2 99  2  1  2  1 97  2 97 97 97  2  2  2  2 99 97  2  2  2  2\n",
      " 97  2  2 97  2  1  2 97  2  1  2  2 97  2  2  2  2  1  2  2 97  2 97 97\n",
      "  2  2  2  2 97 99  2  2  2  2  2  2 99  2 97 97  2 99  2  2 97 97 97  2\n",
      "  2  2  2  2  2  2  2  2  2  1  1  1  1  1  2  2  2  2 97  2  1 99 97 97\n",
      "  2 97  2  2  2  2  2  2  2  1 97  2  2 97  2 97 99  2  2 97  2  2 97  1\n",
      "  1 99  2  2  2  2 97  2  1 97  2  2 97 99  2  2  2  2  2 97 97 97  2  2\n",
      "  2  2  1 97  2  2  1  2  2 97  2  2  2 97 99  2  2  2  2  2  1  2  2  2\n",
      " 97  2 97  2 97 97  1  2 99  2  2  2  2  1  2  2  2  2  2 97  2  1 97  2\n",
      "  1  1  2  2  2  2  2  2  2 97  2  1  2  2  2  2  2 97  2  1 99  2 99 97\n",
      "  2 97  2 97 97  2 97  1  2  2  2 97  2  1 97  2  2  2  2  2  2 97 97  2\n",
      "  2 97  2  2  2  2 97  2 99 99 99 97 99  2  1  2  2 97  2 97  2  2 97  2\n",
      "  2  2  2  2  1  2  2 97 97  1 97 97  1  1  1  2  2 97 97  2  2  2  1 97\n",
      "  2  1  2 97  2  2  1  1  2  2  2  1 99 97  1  2  2  2  2  2  2  2  2 97\n",
      " 97  2  2  1  2  1 97 97  1 97  2 97 97  2  2  2  2  2 97  2  2  2 97  2\n",
      "  2  1 97  2  1  2  2 97  2 97 97  2 97  2  2  2  2  2  1  2 97 99  2 99\n",
      " 97  2  2  2  2 97  1  2  2  2 97 97  2  2 99  2  2  2  2 99  2  2  2  2\n",
      "  2  2  2  1  2 97  2  2 97  2  2  2  2 97  2  2  2 97  2  2  2 97  1  1\n",
      "  2 97  2  1 97  2 99  2  2  2 97  2  2 97  1 97  1 97  2 97  2  2  1  2\n",
      "  2 97  2 97  2  2  2 97  1  2 99  2  2 97  2  1 97 97 97  2  1  1  2  2\n",
      "  2  2 97  2  2  2  2  2 97  2 99  1 97  1  2  2 99  1  2  2 97  2 97  2\n",
      "  2  1  2  2 97 97  2 97  1  2 97  2  2  1  1  1  1 97  2 97  2  2  2 97\n",
      "  2 97  2  1  2  1  2 97 97 97 97  2 97 97 97  2 97  2  2 97  1  1  2  2\n",
      " 97  2  2  2 97 97 97  1 97  2  2  2]\n"
     ]
    }
   ],
   "source": [
    "print(y_test)"
   ]
  },
  {
   "cell_type": "code",
   "execution_count": 21,
   "id": "7e307d5e",
   "metadata": {},
   "outputs": [
    {
     "data": {
      "text/plain": [
       "RandomForestClassifier(criterion='entropy', n_estimators=10, random_state=0)"
      ]
     },
     "execution_count": 21,
     "metadata": {},
     "output_type": "execute_result"
    }
   ],
   "source": [
    "from sklearn.ensemble import RandomForestClassifier\n",
    "classifier = RandomForestClassifier(n_estimators = 10, criterion = 'entropy', random_state = 0)\n",
    "classifier.fit(x_train,y_train)"
   ]
  },
  {
   "cell_type": "code",
   "execution_count": 22,
   "id": "c574f65f",
   "metadata": {},
   "outputs": [
    {
     "name": "stdout",
     "output_type": "stream",
     "text": [
      "[[ 2  2]\n",
      " [99 99]\n",
      " [ 2  2]\n",
      " ...\n",
      " [ 2  2]\n",
      " [ 2  2]\n",
      " [ 2  2]]\n"
     ]
    }
   ],
   "source": [
    "y_pred = classifier.predict(x_test)\n",
    "print(np.concatenate((y_pred.reshape(len(y_pred),1),y_test.reshape(len(y_test),1)),1))"
   ]
  },
  {
   "cell_type": "code",
   "execution_count": 23,
   "id": "e65f3857",
   "metadata": {},
   "outputs": [
    {
     "name": "stdout",
     "output_type": "stream",
     "text": [
      "[[ 30  58   0   0]\n",
      " [ 35 331   0   0]\n",
      " [  0   0 173   0]\n",
      " [  0   0   0  33]]\n"
     ]
    },
    {
     "data": {
      "text/plain": [
       "0.8590909090909091"
      ]
     },
     "execution_count": 23,
     "metadata": {},
     "output_type": "execute_result"
    }
   ],
   "source": [
    "from sklearn.metrics import confusion_matrix, accuracy_score\n",
    "cm = confusion_matrix(y_test,y_pred)\n",
    "print(cm)\n",
    "accuracy_score(y_test,y_pred)"
   ]
  },
  {
   "cell_type": "code",
   "execution_count": 24,
   "id": "0a03e002",
   "metadata": {},
   "outputs": [
    {
     "name": "stdout",
     "output_type": "stream",
     "text": [
      "              precision    recall  f1-score   support\n",
      "\n",
      "           1       0.46      0.34      0.39        88\n",
      "           2       0.85      0.90      0.88       366\n",
      "          97       1.00      1.00      1.00       173\n",
      "          99       1.00      1.00      1.00        33\n",
      "\n",
      "    accuracy                           0.86       660\n",
      "   macro avg       0.83      0.81      0.82       660\n",
      "weighted avg       0.85      0.86      0.85       660\n",
      "\n"
     ]
    }
   ],
   "source": [
    "from sklearn.metrics import classification_report\n",
    "print(classification_report(y_test,y_pred))"
   ]
  },
  {
   "cell_type": "code",
   "execution_count": 26,
   "id": "2b5180db",
   "metadata": {},
   "outputs": [
    {
     "name": "stdout",
     "output_type": "stream",
     "text": [
      "0.1409090909090909\n"
     ]
    }
   ],
   "source": [
    "from sklearn.metrics import mean_absolute_error\n",
    "print(mean_absolute_error(y_pred,y_test))"
   ]
  },
  {
   "cell_type": "code",
   "execution_count": null,
   "id": "cd44fcb0",
   "metadata": {},
   "outputs": [],
   "source": []
  }
 ],
 "metadata": {
  "kernelspec": {
   "display_name": "Python 3",
   "language": "python",
   "name": "python3"
  },
  "language_info": {
   "codemirror_mode": {
    "name": "ipython",
    "version": 3
   },
   "file_extension": ".py",
   "mimetype": "text/x-python",
   "name": "python",
   "nbconvert_exporter": "python",
   "pygments_lexer": "ipython3",
   "version": "3.8.8"
  }
 },
 "nbformat": 4,
 "nbformat_minor": 5
}
